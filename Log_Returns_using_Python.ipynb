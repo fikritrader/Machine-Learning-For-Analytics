{
  "nbformat": 4,
  "nbformat_minor": 0,
  "metadata": {
    "colab": {
      "name": "Log Returns using Python.ipynb",
      "provenance": [],
      "authorship_tag": "ABX9TyNKGrCiBhjQh3P9IHX5OuB4",
      "include_colab_link": true
    },
    "kernelspec": {
      "name": "python3",
      "display_name": "Python 3"
    }
  },
  "cells": [
    {
      "cell_type": "markdown",
      "metadata": {
        "id": "view-in-github",
        "colab_type": "text"
      },
      "source": [
        "<a href=\"https://colab.research.google.com/github/fikritrader/Machine-Learning-For-Analytics/blob/master/Log_Returns_using_Python.ipynb\" target=\"_parent\"><img src=\"https://colab.research.google.com/assets/colab-badge.svg\" alt=\"Open In Colab\"/></a>"
      ]
    },
    {
      "cell_type": "markdown",
      "metadata": {
        "id": "NzklfQoxPzjB",
        "colab_type": "text"
      },
      "source": [
        "Log Returns using Python: FA2\n",
        "On September 25, 2019 by Jyoti Dixit"
      ]
    },
    {
      "cell_type": "markdown",
      "metadata": {
        "id": "T0xgl5B5NxqM",
        "colab_type": "text"
      },
      "source": [
        "# **Log Returns using Python**\n",
        "Hi ML Enthusiasts! Through this article, of Financial Analytics series, we’ll be learning the concept of logarithmic rate of return and how to calculate Log Returns using python. So, let’s get started by understanding the concept of Logarithmic Rate of Return which is one of the most asked topic in Financial Analytics. Please also check part-1 of  Financial Analytics Series.\n",
        "\n",
        "As time progresses, the investments that we take part in increase and earn a compounded return. For bonds, the compound interest is fixed but for stocks, it varies. To calculate this continuously compounded interest, natural logarithm function is used by investors.\n",
        "\n",
        "For bonds, the formula of log return is given by ln(1 + stated rate of interest)\n",
        "\n",
        "For stocks, this becomes"
      ]
    },
    {
      "cell_type": "markdown",
      "metadata": {
        "id": "1rhybtAGN6LR",
        "colab_type": "text"
      },
      "source": [
        " ![Texte alternatif…](https://i0.wp.com/mlforanalytics.com/wp-content/uploads/2019/09/return3.png?resize=191%2C135&ssl=1)"
      ]
    },
    {
      "cell_type": "markdown",
      "metadata": {
        "id": "LPFAKmQnOGYY",
        "colab_type": "text"
      },
      "source": [
        "The output of this formula results in the continuously compounded rate of return for the given time period."
      ]
    },
    {
      "cell_type": "markdown",
      "metadata": {
        "id": "PH-TkVlFOJLr",
        "colab_type": "text"
      },
      "source": [
        "## **Log Returns using Python – The Code**\n",
        "Let’s begin our analysis by importing the required packages."
      ]
    },
    {
      "cell_type": "code",
      "metadata": {
        "id": "tTmKvSO1OM-K",
        "colab_type": "code",
        "colab": {
          "base_uri": "https://localhost:8080/",
          "height": 71
        },
        "outputId": "c04f6456-573e-4ecd-9218-138a6f692416"
      },
      "source": [
        "#Numpy is the package for scientific computing with python. Array computations are made very easy by using this package.\n",
        "import numpy as np\n",
        "\n",
        "#Functions from pandas_datareader.data and pandas_datareader.wb extract data from various Internet sources into a pandas DataFrame.\n",
        "from pandas_datareader import data as wb\n",
        "\n",
        "#Using pyplot, we can get interactive plots and generate programmatic plots\n",
        "import matplotlib.pyplot as plt"
      ],
      "execution_count": 1,
      "outputs": [
        {
          "output_type": "stream",
          "text": [
            "/usr/local/lib/python3.6/dist-packages/pandas_datareader/compat/__init__.py:7: FutureWarning: pandas.util.testing is deprecated. Use the functions in the public API at pandas.testing instead.\n",
            "  from pandas.util.testing import assert_frame_equal\n"
          ],
          "name": "stderr"
        }
      ]
    },
    {
      "cell_type": "markdown",
      "metadata": {
        "id": "wuBkQ5PpOZ7t",
        "colab_type": "text"
      },
      "source": [
        "Now, let’s extract the historical prices for Procter & Gamble company from yahoo finance using DataReader."
      ]
    },
    {
      "cell_type": "markdown",
      "metadata": {
        "id": "i5i5CTGdOZ5q",
        "colab_type": "text"
      },
      "source": [
        ""
      ]
    },
    {
      "cell_type": "code",
      "metadata": {
        "id": "bW1uwqA4Obay",
        "colab_type": "code",
        "colab": {}
      },
      "source": [
        "#Importing the data\n",
        "PG = wb.DataReader('PG', data_source='yahoo', start='1995-1-1')"
      ],
      "execution_count": 0,
      "outputs": []
    },
    {
      "cell_type": "code",
      "metadata": {
        "id": "SjipBFt-N2SB",
        "colab_type": "code",
        "colab": {
          "base_uri": "https://localhost:8080/",
          "height": 235
        },
        "outputId": "2dd68fc3-a483-4c13-f20c-f9a781a38f43"
      },
      "source": [
        "#Displaying the head of the dataframe PG. head() displays first 5 rows by default. \n",
        "PG.head()"
      ],
      "execution_count": 4,
      "outputs": [
        {
          "output_type": "execute_result",
          "data": {
            "text/html": [
              "<div>\n",
              "<style scoped>\n",
              "    .dataframe tbody tr th:only-of-type {\n",
              "        vertical-align: middle;\n",
              "    }\n",
              "\n",
              "    .dataframe tbody tr th {\n",
              "        vertical-align: top;\n",
              "    }\n",
              "\n",
              "    .dataframe thead th {\n",
              "        text-align: right;\n",
              "    }\n",
              "</style>\n",
              "<table border=\"1\" class=\"dataframe\">\n",
              "  <thead>\n",
              "    <tr style=\"text-align: right;\">\n",
              "      <th></th>\n",
              "      <th>High</th>\n",
              "      <th>Low</th>\n",
              "      <th>Open</th>\n",
              "      <th>Close</th>\n",
              "      <th>Volume</th>\n",
              "      <th>Adj Close</th>\n",
              "    </tr>\n",
              "    <tr>\n",
              "      <th>Date</th>\n",
              "      <th></th>\n",
              "      <th></th>\n",
              "      <th></th>\n",
              "      <th></th>\n",
              "      <th></th>\n",
              "      <th></th>\n",
              "    </tr>\n",
              "  </thead>\n",
              "  <tbody>\n",
              "    <tr>\n",
              "      <th>1995-01-03</th>\n",
              "      <td>15.62500</td>\n",
              "      <td>15.43750</td>\n",
              "      <td>15.46875</td>\n",
              "      <td>15.59375</td>\n",
              "      <td>3318400.0</td>\n",
              "      <td>6.320252</td>\n",
              "    </tr>\n",
              "    <tr>\n",
              "      <th>1995-01-04</th>\n",
              "      <td>15.65625</td>\n",
              "      <td>15.31250</td>\n",
              "      <td>15.53125</td>\n",
              "      <td>15.46875</td>\n",
              "      <td>2218800.0</td>\n",
              "      <td>6.269589</td>\n",
              "    </tr>\n",
              "    <tr>\n",
              "      <th>1995-01-05</th>\n",
              "      <td>15.43750</td>\n",
              "      <td>15.21875</td>\n",
              "      <td>15.37500</td>\n",
              "      <td>15.25000</td>\n",
              "      <td>2319600.0</td>\n",
              "      <td>6.180927</td>\n",
              "    </tr>\n",
              "    <tr>\n",
              "      <th>1995-01-06</th>\n",
              "      <td>15.40625</td>\n",
              "      <td>15.15625</td>\n",
              "      <td>15.15625</td>\n",
              "      <td>15.28125</td>\n",
              "      <td>3438000.0</td>\n",
              "      <td>6.193593</td>\n",
              "    </tr>\n",
              "    <tr>\n",
              "      <th>1995-01-09</th>\n",
              "      <td>15.40625</td>\n",
              "      <td>15.18750</td>\n",
              "      <td>15.34375</td>\n",
              "      <td>15.21875</td>\n",
              "      <td>1795200.0</td>\n",
              "      <td>6.168259</td>\n",
              "    </tr>\n",
              "  </tbody>\n",
              "</table>\n",
              "</div>"
            ],
            "text/plain": [
              "                High       Low      Open     Close     Volume  Adj Close\n",
              "Date                                                                    \n",
              "1995-01-03  15.62500  15.43750  15.46875  15.59375  3318400.0   6.320252\n",
              "1995-01-04  15.65625  15.31250  15.53125  15.46875  2218800.0   6.269589\n",
              "1995-01-05  15.43750  15.21875  15.37500  15.25000  2319600.0   6.180927\n",
              "1995-01-06  15.40625  15.15625  15.15625  15.28125  3438000.0   6.193593\n",
              "1995-01-09  15.40625  15.18750  15.34375  15.21875  1795200.0   6.168259"
            ]
          },
          "metadata": {
            "tags": []
          },
          "execution_count": 4
        }
      ]
    },
    {
      "cell_type": "code",
      "metadata": {
        "id": "YrwjPjsONFZ9",
        "colab_type": "code",
        "colab": {
          "base_uri": "https://localhost:8080/",
          "height": 238
        },
        "outputId": "35b82c98-f906-4fab-9333-d72bcf9bf130"
      },
      "source": [
        "#pandas.Dataframe.shift(# lags)\n",
        "#Using shift(1), we can get the row just above the present row. Here, # lags is 1.\n",
        "#log() is a function given in numpy package in python. It calculates the natural log of the value given inside it.\n",
        "PG['Log Return'] = np.log(PG['Adj Close']/PG['Adj Close'].shift(1))\n",
        "\n",
        "#print() function prints the value inside it on the console.\n",
        "print(PG['Log Return']) "
      ],
      "execution_count": 5,
      "outputs": [
        {
          "output_type": "stream",
          "text": [
            "Date\n",
            "1995-01-03         NaN\n",
            "1995-01-04   -0.008048\n",
            "1995-01-05   -0.014243\n",
            "1995-01-06    0.002047\n",
            "1995-01-09   -0.004099\n",
            "                ...   \n",
            "2020-05-13   -0.005515\n",
            "2020-05-14   -0.000966\n",
            "2020-05-15    0.007005\n",
            "2020-05-18    0.013864\n",
            "2020-05-19   -0.032979\n",
            "Name: Log Return, Length: 6390, dtype: float64\n"
          ],
          "name": "stdout"
        }
      ]
    },
    {
      "cell_type": "markdown",
      "metadata": {
        "id": "Dafs_K4cPCqI",
        "colab_type": "text"
      },
      "source": [
        "Plotting the Simple Return series using matplotlib.pyplot"
      ]
    },
    {
      "cell_type": "code",
      "metadata": {
        "id": "bP95ZsuUPFIA",
        "colab_type": "code",
        "colab": {
          "base_uri": "https://localhost:8080/",
          "height": 318
        },
        "outputId": "c5ff9159-c5d1-4a45-91fb-444e0849833d"
      },
      "source": [
        "PG['Log Return'].plot(figsize=(8,5))\n",
        "plt.show()"
      ],
      "execution_count": 6,
      "outputs": [
        {
          "output_type": "display_data",
          "data": {
            "image/png": "[encoded data removed]",
            "text/plain": [
              "<Figure size 576x360 with 1 Axes>"
            ]
          },
          "metadata": {
            "tags": [],
            "needs_background": "light"
          }
        }
      ]
    },
    {
      "cell_type": "markdown",
      "metadata": {
        "id": "cwAGLSW5PKBQ",
        "colab_type": "text"
      },
      "source": [
        "## **Calculating Daily Average Returns**\n",
        "Daily Average Returns are given by computing the mean of the log rate of return series."
      ]
    },
    {
      "cell_type": "code",
      "metadata": {
        "id": "EZMVulbAPNqw",
        "colab_type": "code",
        "colab": {
          "base_uri": "https://localhost:8080/",
          "height": 34
        },
        "outputId": "f49d1e7a-f4c2-4a15-faf6-b06c7cccccd0"
      },
      "source": [
        "daily_log_returns = PG['Log Return'].mean()\n",
        "daily_log_returns"
      ],
      "execution_count": 7,
      "outputs": [
        {
          "output_type": "execute_result",
          "data": {
            "text/plain": [
              "0.00045056514261967024"
            ]
          },
          "metadata": {
            "tags": []
          },
          "execution_count": 7
        }
      ]
    },
    {
      "cell_type": "markdown",
      "metadata": {
        "id": "aEonC2dSPSyX",
        "colab_type": "text"
      },
      "source": [
        "## **Calculating Annual Average Returns**\n",
        "Annual Average Returns are given by computing the mean of the log rate of return series and then multiplying the value by 250 since 250 days exist in a business day system."
      ]
    },
    {
      "cell_type": "code",
      "metadata": {
        "id": "z4RlqFSUPXDK",
        "colab_type": "code",
        "colab": {
          "base_uri": "https://localhost:8080/",
          "height": 34
        },
        "outputId": "3e3cf353-b176-4c3e-8146-2e06528621dd"
      },
      "source": [
        "annual_log_returns = PG['Log Return'].mean() * 250\n",
        "annual_log_returns"
      ],
      "execution_count": 8,
      "outputs": [
        {
          "output_type": "execute_result",
          "data": {
            "text/plain": [
              "0.11264128565491756"
            ]
          },
          "metadata": {
            "tags": []
          },
          "execution_count": 8
        }
      ]
    },
    {
      "cell_type": "markdown",
      "metadata": {
        "id": "V-08rPaoPbyR",
        "colab_type": "text"
      },
      "source": [
        "Annual average returns percent for PG is given by the following code."
      ]
    },
    {
      "cell_type": "code",
      "metadata": {
        "id": "GdElYO9-Pfo2",
        "colab_type": "code",
        "colab": {
          "base_uri": "https://localhost:8080/",
          "height": 34
        },
        "outputId": "260159b5-9587-47d0-8ab2-1826a2019632"
      },
      "source": [
        "print(str(round(annual_log_returns*100, 2)) +' %')"
      ],
      "execution_count": 9,
      "outputs": [
        {
          "output_type": "stream",
          "text": [
            "11.26 %\n"
          ],
          "name": "stdout"
        }
      ]
    },
    {
      "cell_type": "markdown",
      "metadata": {
        "id": "EtgXs4nMPkuS",
        "colab_type": "text"
      },
      "source": [
        "So, guys, this was the second tutorial on how to apply python in the field of finance and trading. Checkout our next tutorial Financial Analytics Part-3. Stay tuned for more tutorials on this.\n",
        "\n",
        "Also, for video tutorials, check our YouTube channel ML for Analytics."
      ]
    },
    {
      "cell_type": "markdown",
      "metadata": {
        "id": "OByuK2ANPoEK",
        "colab_type": "text"
      },
      "source": [
        "source: https://mlforanalytics.com/2019/09/25/financial-analytics-log-returns-using-python/"
      ]
    }
  ]
}