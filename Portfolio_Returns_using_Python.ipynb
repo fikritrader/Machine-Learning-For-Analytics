{
  "nbformat": 4,
  "nbformat_minor": 0,
  "metadata": {
    "colab": {
      "name": "Portfolio Returns using Python.ipynb",
      "provenance": [],
      "authorship_tag": "ABX9TyPqzI9Whk16qhs6oz1Ef8de",
      "include_colab_link": true
    },
    "kernelspec": {
      "name": "python3",
      "display_name": "Python 3"
    }
  },
  "cells": [
    {
      "cell_type": "markdown",
      "metadata": {
        "id": "view-in-github",
        "colab_type": "text"
      },
      "source": [
        "<a href=\"https://colab.research.google.com/github/fikritrader/Machine-Learning-For-Analytics/blob/master/Portfolio_Returns_using_Python.ipynb\" target=\"_parent\"><img src=\"https://colab.research.google.com/assets/colab-badge.svg\" alt=\"Open In Colab\"/></a>"
      ]
    },
    {
      "cell_type": "markdown",
      "metadata": {
        "id": "2iJ6azbEd1lh",
        "colab_type": "text"
      },
      "source": [
        "## **Portfolio Returns using Python**\n",
        "Financial Analytics – Introduction"
      ]
    },
    {
      "cell_type": "markdown",
      "metadata": {
        "id": "07HMTYCPd9eB",
        "colab_type": "text"
      },
      "source": [
        "On October 2, 2019 by Jyoti Dixit"
      ]
    },
    {
      "cell_type": "markdown",
      "metadata": {
        "id": "oFRstDg8eBGi",
        "colab_type": "text"
      },
      "source": [
        "\n",
        "Portfolio Returns using Python\n",
        "Financial Analytics – Introduction\n",
        "Hi MLEnthusiasts! Here’s the part 3 of our financial analytics series. Today, we will be learning how to calculate the cumulative return of the portfolio of securities, given the returns of individual stocks, using python. You may like to go through part 1 of Financial Analytics series and part 2 of Financial Analytics series, if you’re new to this field."
      ]
    },
    {
      "cell_type": "code",
      "metadata": {
        "id": "sOwzjyAmZz_k",
        "colab_type": "code",
        "colab": {}
      },
      "source": [
        ""
      ],
      "execution_count": 0,
      "outputs": []
    },
    {
      "cell_type": "markdown",
      "metadata": {
        "id": "Am5hYGgxeGmu",
        "colab_type": "text"
      },
      "source": [
        "Financial Analytics – The Theory\n",
        "Before jumping on code, let’s first understand the theory behind calculating the cumulative return of portfolio of securities.\n",
        "\n",
        "To calculate this, we need to know the expected returns of the individual assets and also the weight associated with each asset.\n",
        "\n",
        "We get the cumulative return by multiplying the return of each individual asset with its associated weight and then summing these up. Thus, the cumulative return is the weighted average of individual returns.\n",
        "\n",
        "Suppose, we have three assets A1, A2 and A3. The weights associated with these assets are w1, w2 and w3. Also, the returns associated with these assets are r1, r2 and r3. Let the cumulative return be represented as R. Thus, R is given by"
      ]
    },
    {
      "cell_type": "markdown",
      "metadata": {
        "id": "6fUGhBeheKeR",
        "colab_type": "text"
      },
      "source": [
        "R = w1r1+w2r2+w3r3"
      ]
    },
    {
      "cell_type": "markdown",
      "metadata": {
        "id": "EVQmrxedeMAy",
        "colab_type": "text"
      },
      "source": [
        "If there are N assets, the same R is given by"
      ]
    },
    {
      "cell_type": "markdown",
      "metadata": {
        "id": "fWow7mvxeOnR",
        "colab_type": "text"
      },
      "source": [
        "R = Σwnrn    "
      ]
    },
    {
      "cell_type": "markdown",
      "metadata": {
        "id": "ct2eFok5eRVp",
        "colab_type": "text"
      },
      "source": [
        ""
      ]
    },
    {
      "cell_type": "markdown",
      "metadata": {
        "id": "pHse1rMQeUCQ",
        "colab_type": "text"
      },
      "source": [
        "where n varies from 1 to N.\n",
        "Financial Analytics – The Code\n",
        "Okay, enough of the theory! Let’s now jump on doing this using python!\n",
        "\n",
        "## **The first step is to import the libraries.**"
      ]
    },
    {
      "cell_type": "code",
      "metadata": {
        "id": "VC3QRe-4earS",
        "colab_type": "code",
        "colab": {
          "base_uri": "https://localhost:8080/",
          "height": 71
        },
        "outputId": "6d514292-0b55-4398-a0d7-1ac71a7d58da"
      },
      "source": [
        "#Numpy is the package for scientific computing with python. Array computations are made very easy by using this package.\n",
        "import numpy as np\n",
        "\n",
        "#For data manipulation and data analysis. Manipulation of dataframes is made very easy using this library.\n",
        "import pandas as pd\n",
        "\n",
        "#Functions from pandas_datareader.data and pandas_datareader.wb extract data from various Internet sources into a pandas DataFrame.\n",
        "from pandas_datareader import data as dr\n",
        "\n",
        "#Using pyplot, we can get interactive plots and generate programmatic plots\n",
        "import matplotlib.pyplot as plt"
      ],
      "execution_count": 1,
      "outputs": [
        {
          "output_type": "stream",
          "text": [
            "/usr/local/lib/python3.6/dist-packages/pandas_datareader/compat/__init__.py:7: FutureWarning: pandas.util.testing is deprecated. Use the functions in the public API at pandas.testing instead.\n",
            "  from pandas.util.testing import assert_frame_equal\n"
          ],
          "name": "stderr"
        }
      ]
    },
    {
      "cell_type": "markdown",
      "metadata": {
        "id": "313W7V8DeyeZ",
        "colab_type": "text"
      },
      "source": [
        "Next, we will make a list of assets – ‘PG'(Procter and Gamble), ‘MSFT'(Microsoft) and ‘GE'(General Electric), save it in a variable ‘assets’. Make a new blank dataframe, get it saved in assetsAdjClose and then bring the ‘Adj Close’ column of all these assets in this dataframe. We will fetch data from yahoo finance."
      ]
    },
    {
      "cell_type": "code",
      "metadata": {
        "id": "WTHCCduFezrx",
        "colab_type": "code",
        "colab": {}
      },
      "source": [
        "assets = ['PG', 'MSFT', 'GE']\n",
        "assetsAdjClose = pd.DataFrame()\n",
        "for a in assets:\n",
        "    assetsAdjClose[a] = dr.DataReader(a, data_source='yahoo', start='1995-1-1')['Adj Close']"
      ],
      "execution_count": 0,
      "outputs": []
    },
    {
      "cell_type": "code",
      "metadata": {
        "id": "S8MfS5pEfFkL",
        "colab_type": "code",
        "colab": {
          "base_uri": "https://localhost:8080/",
          "height": 187
        },
        "outputId": "d1212e7c-7f79-4080-d66c-263db09a5d80"
      },
      "source": [
        "assetsAdjClose.info()     #Checking what's there in this dataframe!"
      ],
      "execution_count": 3,
      "outputs": [
        {
          "output_type": "stream",
          "text": [
            "<class 'pandas.core.frame.DataFrame'>\n",
            "DatetimeIndex: 6390 entries, 1995-01-03 to 2020-05-19\n",
            "Data columns (total 3 columns):\n",
            " #   Column  Non-Null Count  Dtype  \n",
            "---  ------  --------------  -----  \n",
            " 0   PG      6390 non-null   float64\n",
            " 1   MSFT    6390 non-null   float64\n",
            " 2   GE      6390 non-null   float64\n",
            "dtypes: float64(3)\n",
            "memory usage: 199.7 KB\n"
          ],
          "name": "stdout"
        }
      ]
    },
    {
      "cell_type": "code",
      "metadata": {
        "id": "6NoBPZ3EfRpC",
        "colab_type": "code",
        "colab": {
          "base_uri": "https://localhost:8080/",
          "height": 235
        },
        "outputId": "f19708fb-ec75-4b4c-d3ef-1e59773fb756"
      },
      "source": [
        "assetsAdjClose.head()    #Checking first 5 rows of this dataframe"
      ],
      "execution_count": 4,
      "outputs": [
        {
          "output_type": "execute_result",
          "data": {
            "text/html": [
              "<div>\n",
              "<style scoped>\n",
              "    .dataframe tbody tr th:only-of-type {\n",
              "        vertical-align: middle;\n",
              "    }\n",
              "\n",
              "    .dataframe tbody tr th {\n",
              "        vertical-align: top;\n",
              "    }\n",
              "\n",
              "    .dataframe thead th {\n",
              "        text-align: right;\n",
              "    }\n",
              "</style>\n",
              "<table border=\"1\" class=\"dataframe\">\n",
              "  <thead>\n",
              "    <tr style=\"text-align: right;\">\n",
              "      <th></th>\n",
              "      <th>PG</th>\n",
              "      <th>MSFT</th>\n",
              "      <th>GE</th>\n",
              "    </tr>\n",
              "    <tr>\n",
              "      <th>Date</th>\n",
              "      <th></th>\n",
              "      <th></th>\n",
              "      <th></th>\n",
              "    </tr>\n",
              "  </thead>\n",
              "  <tbody>\n",
              "    <tr>\n",
              "      <th>1995-01-03</th>\n",
              "      <td>6.320252</td>\n",
              "      <td>2.413537</td>\n",
              "      <td>2.729230</td>\n",
              "    </tr>\n",
              "    <tr>\n",
              "      <th>1995-01-04</th>\n",
              "      <td>6.269589</td>\n",
              "      <td>2.431082</td>\n",
              "      <td>2.729230</td>\n",
              "    </tr>\n",
              "    <tr>\n",
              "      <th>1995-01-05</th>\n",
              "      <td>6.180927</td>\n",
              "      <td>2.390982</td>\n",
              "      <td>2.735919</td>\n",
              "    </tr>\n",
              "    <tr>\n",
              "      <th>1995-01-06</th>\n",
              "      <td>6.193593</td>\n",
              "      <td>2.431082</td>\n",
              "      <td>2.722540</td>\n",
              "    </tr>\n",
              "    <tr>\n",
              "      <th>1995-01-09</th>\n",
              "      <td>6.168259</td>\n",
              "      <td>2.416045</td>\n",
              "      <td>2.695783</td>\n",
              "    </tr>\n",
              "  </tbody>\n",
              "</table>\n",
              "</div>"
            ],
            "text/plain": [
              "                  PG      MSFT        GE\n",
              "Date                                    \n",
              "1995-01-03  6.320252  2.413537  2.729230\n",
              "1995-01-04  6.269589  2.431082  2.729230\n",
              "1995-01-05  6.180927  2.390982  2.735919\n",
              "1995-01-06  6.193593  2.431082  2.722540\n",
              "1995-01-09  6.168259  2.416045  2.695783"
            ]
          },
          "metadata": {
            "tags": []
          },
          "execution_count": 4
        }
      ]
    },
    {
      "cell_type": "code",
      "metadata": {
        "id": "HrCvZCNffesP",
        "colab_type": "code",
        "colab": {
          "base_uri": "https://localhost:8080/",
          "height": 235
        },
        "outputId": "5b14cf03-2129-4df4-e9fd-e845e0ced627"
      },
      "source": [
        "assetsAdjClose.tail()     #Checking last 5 rows of this dataframe"
      ],
      "execution_count": 5,
      "outputs": [
        {
          "output_type": "execute_result",
          "data": {
            "text/html": [
              "<div>\n",
              "<style scoped>\n",
              "    .dataframe tbody tr th:only-of-type {\n",
              "        vertical-align: middle;\n",
              "    }\n",
              "\n",
              "    .dataframe tbody tr th {\n",
              "        vertical-align: top;\n",
              "    }\n",
              "\n",
              "    .dataframe thead th {\n",
              "        text-align: right;\n",
              "    }\n",
              "</style>\n",
              "<table border=\"1\" class=\"dataframe\">\n",
              "  <thead>\n",
              "    <tr style=\"text-align: right;\">\n",
              "      <th></th>\n",
              "      <th>PG</th>\n",
              "      <th>MSFT</th>\n",
              "      <th>GE</th>\n",
              "    </tr>\n",
              "    <tr>\n",
              "      <th>Date</th>\n",
              "      <th></th>\n",
              "      <th></th>\n",
              "      <th></th>\n",
              "    </tr>\n",
              "  </thead>\n",
              "  <tbody>\n",
              "    <tr>\n",
              "      <th>2020-05-13</th>\n",
              "      <td>113.919998</td>\n",
              "      <td>179.750000</td>\n",
              "      <td>5.79</td>\n",
              "    </tr>\n",
              "    <tr>\n",
              "      <th>2020-05-14</th>\n",
              "      <td>113.809998</td>\n",
              "      <td>180.529999</td>\n",
              "      <td>5.70</td>\n",
              "    </tr>\n",
              "    <tr>\n",
              "      <th>2020-05-15</th>\n",
              "      <td>114.610001</td>\n",
              "      <td>183.160004</td>\n",
              "      <td>5.49</td>\n",
              "    </tr>\n",
              "    <tr>\n",
              "      <th>2020-05-18</th>\n",
              "      <td>116.209999</td>\n",
              "      <td>184.910004</td>\n",
              "      <td>6.27</td>\n",
              "    </tr>\n",
              "    <tr>\n",
              "      <th>2020-05-19</th>\n",
              "      <td>112.440002</td>\n",
              "      <td>183.630005</td>\n",
              "      <td>6.21</td>\n",
              "    </tr>\n",
              "  </tbody>\n",
              "</table>\n",
              "</div>"
            ],
            "text/plain": [
              "                    PG        MSFT    GE\n",
              "Date                                    \n",
              "2020-05-13  113.919998  179.750000  5.79\n",
              "2020-05-14  113.809998  180.529999  5.70\n",
              "2020-05-15  114.610001  183.160004  5.49\n",
              "2020-05-18  116.209999  184.910004  6.27\n",
              "2020-05-19  112.440002  183.630005  6.21"
            ]
          },
          "metadata": {
            "tags": []
          },
          "execution_count": 5
        }
      ]
    },
    {
      "cell_type": "markdown",
      "metadata": {
        "id": "_PZuzSjffv5P",
        "colab_type": "text"
      },
      "source": [
        "## **Normalization to 100**\n",
        "We do normalization to keep the base of all the assets the same. This helps us in comparison. Here,\n",
        "Po is the first row (data corresponding to the oldest date) of the dataframe and  Pt is the next row."
      ]
    },
    {
      "cell_type": "markdown",
      "metadata": {
        "id": "Db7ZXls-f05f",
        "colab_type": "text"
      },
      "source": [
        "![Texte alternatif…](https://i1.wp.com/mlforanalytics.com/wp-content/uploads/2019/10/normalization.png?resize=69%2C53&ssl=1)"
      ]
    },
    {
      "cell_type": "code",
      "metadata": {
        "id": "KFD5feHuf7U4",
        "colab_type": "code",
        "colab": {
          "base_uri": "https://localhost:8080/",
          "height": 85
        },
        "outputId": "3456fa1d-7571-49ed-f7c3-4961d19a7cb0"
      },
      "source": [
        "assetsAdjClose.iloc[0]       #Gives the first row figures of the dataframe."
      ],
      "execution_count": 6,
      "outputs": [
        {
          "output_type": "execute_result",
          "data": {
            "text/plain": [
              "PG      6.320252\n",
              "MSFT    2.413537\n",
              "GE      2.729230\n",
              "Name: 1995-01-03 00:00:00, dtype: float64"
            ]
          },
          "metadata": {
            "tags": []
          },
          "execution_count": 6
        }
      ]
    },
    {
      "cell_type": "code",
      "metadata": {
        "id": "1OC_91JlgHr7",
        "colab_type": "code",
        "colab": {
          "base_uri": "https://localhost:8080/",
          "height": 367
        },
        "outputId": "f40e5ae9-b57c-4f98-8fb9-6491241f4072"
      },
      "source": [
        "(assetsAdjClose/assetsAdjClose.iloc[0]*100).plot(figsize = (15, 6)); #Normalizing the dataframe\n",
        "plt.show()  #Plot the line chart of all the securities - data is normalized."
      ],
      "execution_count": 7,
      "outputs": [
        {
          "output_type": "display_data",
          "data": {
            "image/png": "[encoded data removed]",
            "text/plain": [
              "<Figure size 1080x432 with 1 Axes>"
            ]
          },
          "metadata": {
            "tags": [],
            "needs_background": "light"
          }
        }
      ]
    },
    {
      "cell_type": "code",
      "metadata": {
        "id": "g_M4383WgbQv",
        "colab_type": "code",
        "colab": {
          "base_uri": "https://localhost:8080/",
          "height": 367
        },
        "outputId": "4c5470b4-4397-4323-8ed2-cfbe276e1fe7"
      },
      "source": [
        "assetsAdjClose.plot(figsize=(15,6))\n",
        "plt.show()     #line chart of data without normalization"
      ],
      "execution_count": 8,
      "outputs": [
        {
          "output_type": "display_data",
          "data": {
            "image/png": "[encoded data removed]",
            "text/plain": [
              "<Figure size 1080x432 with 1 Axes>"
            ]
          },
          "metadata": {
            "tags": [],
            "needs_background": "light"
          }
        }
      ]
    },
    {
      "cell_type": "markdown",
      "metadata": {
        "id": "cnDr1vHXgpGQ",
        "colab_type": "text"
      },
      "source": [
        "## **Calculating the Return of a Portfolio of Securities**"
      ]
    },
    {
      "cell_type": "markdown",
      "metadata": {
        "id": "DQv1qgUmgttC",
        "colab_type": "text"
      },
      "source": [
        "![Texte alternatif…](https://i2.wp.com/mlforanalytics.com/wp-content/uploads/2019/09/return2.png?resize=149%2C54&ssl=1)"
      ]
    },
    {
      "cell_type": "code",
      "metadata": {
        "id": "lMC9YlsMgzeB",
        "colab_type": "code",
        "colab": {
          "base_uri": "https://localhost:8080/",
          "height": 235
        },
        "outputId": "e1ba505e-9882-4f11-f4ea-72c6adcc137d"
      },
      "source": [
        "#pandas.Dataframe.shift(# lags)\n",
        "#Using shift(1), we can get the row just above the present row. Here, # lags is 1.\n",
        "returns = (assetsAdjClose/assetsAdjClose.shift(1)) - 1       #calculating simple rate of return\n",
        "returns.head()       #displaying first 5 rows of returns dataframe"
      ],
      "execution_count": 9,
      "outputs": [
        {
          "output_type": "execute_result",
          "data": {
            "text/html": [
              "<div>\n",
              "<style scoped>\n",
              "    .dataframe tbody tr th:only-of-type {\n",
              "        vertical-align: middle;\n",
              "    }\n",
              "\n",
              "    .dataframe tbody tr th {\n",
              "        vertical-align: top;\n",
              "    }\n",
              "\n",
              "    .dataframe thead th {\n",
              "        text-align: right;\n",
              "    }\n",
              "</style>\n",
              "<table border=\"1\" class=\"dataframe\">\n",
              "  <thead>\n",
              "    <tr style=\"text-align: right;\">\n",
              "      <th></th>\n",
              "      <th>PG</th>\n",
              "      <th>MSFT</th>\n",
              "      <th>GE</th>\n",
              "    </tr>\n",
              "    <tr>\n",
              "      <th>Date</th>\n",
              "      <th></th>\n",
              "      <th></th>\n",
              "      <th></th>\n",
              "    </tr>\n",
              "  </thead>\n",
              "  <tbody>\n",
              "    <tr>\n",
              "      <th>1995-01-03</th>\n",
              "      <td>NaN</td>\n",
              "      <td>NaN</td>\n",
              "      <td>NaN</td>\n",
              "    </tr>\n",
              "    <tr>\n",
              "      <th>1995-01-04</th>\n",
              "      <td>-0.008016</td>\n",
              "      <td>0.007269</td>\n",
              "      <td>0.000000</td>\n",
              "    </tr>\n",
              "    <tr>\n",
              "      <th>1995-01-05</th>\n",
              "      <td>-0.014142</td>\n",
              "      <td>-0.016495</td>\n",
              "      <td>0.002451</td>\n",
              "    </tr>\n",
              "    <tr>\n",
              "      <th>1995-01-06</th>\n",
              "      <td>0.002049</td>\n",
              "      <td>0.016771</td>\n",
              "      <td>-0.004890</td>\n",
              "    </tr>\n",
              "    <tr>\n",
              "      <th>1995-01-09</th>\n",
              "      <td>-0.004090</td>\n",
              "      <td>-0.006185</td>\n",
              "      <td>-0.009828</td>\n",
              "    </tr>\n",
              "  </tbody>\n",
              "</table>\n",
              "</div>"
            ],
            "text/plain": [
              "                  PG      MSFT        GE\n",
              "Date                                    \n",
              "1995-01-03       NaN       NaN       NaN\n",
              "1995-01-04 -0.008016  0.007269  0.000000\n",
              "1995-01-05 -0.014142 -0.016495  0.002451\n",
              "1995-01-06  0.002049  0.016771 -0.004890\n",
              "1995-01-09 -0.004090 -0.006185 -0.009828"
            ]
          },
          "metadata": {
            "tags": []
          },
          "execution_count": 9
        }
      ]
    },
    {
      "cell_type": "markdown",
      "metadata": {
        "id": "mNt1dPmFg9SZ",
        "colab_type": "text"
      },
      "source": [
        "## **Case 1: When the weights of all the assets are same.**"
      ]
    },
    {
      "cell_type": "code",
      "metadata": {
        "id": "1qmgpPN7hB3h",
        "colab_type": "code",
        "colab": {}
      },
      "source": [
        "weights = np.array([0.33, 0.33, 0.33]) #Note: the sum of the weights should be equal to 1."
      ],
      "execution_count": 0,
      "outputs": []
    },
    {
      "cell_type": "code",
      "metadata": {
        "id": "kuN9GQcfhIzX",
        "colab_type": "code",
        "colab": {
          "base_uri": "https://localhost:8080/",
          "height": 51
        },
        "outputId": "cc1f7cc3-1e8a-4b93-e29e-2103fef7a369"
      },
      "source": [
        "np.dot(returns, weights)           #This calculates the dot product of weights matrix and returns dataframe.\n",
        "# This dot product is the weighted returns dataframe, the mean of each row of which, if we find will give us daily average simple return."
      ],
      "execution_count": 11,
      "outputs": [
        {
          "output_type": "execute_result",
          "data": {
            "text/plain": [
              "array([        nan, -0.0002464 , -0.0093013 , ..., -0.00503071,\n",
              "        0.05464516, -0.01614785])"
            ]
          },
          "metadata": {
            "tags": []
          },
          "execution_count": 11
        }
      ]
    },
    {
      "cell_type": "markdown",
      "metadata": {
        "id": "DlrLDowAhVoS",
        "colab_type": "text"
      },
      "source": [
        "Annual Average Returns are given by computing the mean of the simple rate of return series and then multiplying the value by 250 since 250 days exist in a business day system."
      ]
    },
    {
      "cell_type": "code",
      "metadata": {
        "id": "EjcmCt8vhZIH",
        "colab_type": "code",
        "colab": {
          "base_uri": "https://localhost:8080/",
          "height": 85
        },
        "outputId": "c2eb13d3-954c-4d35-9c88-c395f13ec4c8"
      },
      "source": [
        "annualReturns = returns.mean()*250\n",
        "annualReturns #This gives the average annual return of the individual asset."
      ],
      "execution_count": 12,
      "outputs": [
        {
          "output_type": "execute_result",
          "data": {
            "text/plain": [
              "PG      0.138642\n",
              "MSFT    0.219644\n",
              "GE      0.082012\n",
              "dtype: float64"
            ]
          },
          "metadata": {
            "tags": []
          },
          "execution_count": 12
        }
      ]
    },
    {
      "cell_type": "code",
      "metadata": {
        "id": "lVdjcaqihefw",
        "colab_type": "code",
        "colab": {
          "base_uri": "https://localhost:8080/",
          "height": 34
        },
        "outputId": "a61c64e6-c37e-40fd-c50b-d383ae993390"
      },
      "source": [
        "np.dot(annualReturns, weights)   # This gives the cumulative annual average return.  Refer formula given in the theory section"
      ],
      "execution_count": 13,
      "outputs": [
        {
          "output_type": "execute_result",
          "data": {
            "text/plain": [
              "0.14529841513427985"
            ]
          },
          "metadata": {
            "tags": []
          },
          "execution_count": 13
        }
      ]
    },
    {
      "cell_type": "markdown",
      "metadata": {
        "id": "qeKDXqtYhjnC",
        "colab_type": "text"
      },
      "source": [
        "Cumulative annual return % is given by:"
      ]
    },
    {
      "cell_type": "code",
      "metadata": {
        "id": "oXVeWKI2hiC2",
        "colab_type": "code",
        "colab": {
          "base_uri": "https://localhost:8080/",
          "height": 34
        },
        "outputId": "26bc0820-6442-47e8-e0e9-0d3effd7e8f0"
      },
      "source": [
        "portfolioSameWeights = str(round(np.dot(annualReturns, weights)*100, 2)) + ' %'\n",
        "print(portfolioSameWeights)"
      ],
      "execution_count": 14,
      "outputs": [
        {
          "output_type": "stream",
          "text": [
            "14.53 %\n"
          ],
          "name": "stdout"
        }
      ]
    },
    {
      "cell_type": "markdown",
      "metadata": {
        "id": "kZ2e9T7XhqWy",
        "colab_type": "text"
      },
      "source": [
        "# When weights are **different**"
      ]
    },
    {
      "cell_type": "code",
      "metadata": {
        "id": "6q9TaZhPhztv",
        "colab_type": "code",
        "colab": {}
      },
      "source": [
        "weightsDifferent = np.array([0.25, 0.5, 0.25])  #Note: the sum of the weights should be equal to 1."
      ],
      "execution_count": 0,
      "outputs": []
    },
    {
      "cell_type": "code",
      "metadata": {
        "id": "gF-VTWXkh4yb",
        "colab_type": "code",
        "colab": {
          "base_uri": "https://localhost:8080/",
          "height": 34
        },
        "outputId": "f11f2542-607c-4f41-9cd0-50238b680fe7"
      },
      "source": [
        "np.dot(annualReturns, weightsDifferent)"
      ],
      "execution_count": 16,
      "outputs": [
        {
          "output_type": "execute_result",
          "data": {
            "text/plain": [
              "0.16498558991916348"
            ]
          },
          "metadata": {
            "tags": []
          },
          "execution_count": 16
        }
      ]
    },
    {
      "cell_type": "code",
      "metadata": {
        "id": "h_tpkH8nh9tA",
        "colab_type": "code",
        "colab": {
          "base_uri": "https://localhost:8080/",
          "height": 51
        },
        "outputId": "7bb5242b-5c8e-48b1-def1-78bd43a9fd91"
      },
      "source": [
        "portfolioDifferentWeights = str(round(np.dot(annualReturns, weightsDifferent)*100, 5)) + ' %'\n",
        "print(\"The cumulative return for portfolio with same weights is \", portfolioSameWeights)\n",
        "print(\"The cumulative return for portfolio with different weights is \", portfolioDifferentWeights)"
      ],
      "execution_count": 17,
      "outputs": [
        {
          "output_type": "stream",
          "text": [
            "The cumulative return for portfolio with same weights is  14.53 %\n",
            "The cumulative return for portfolio with different weights is  16.49856 %\n"
          ],
          "name": "stdout"
        }
      ]
    },
    {
      "cell_type": "markdown",
      "metadata": {
        "id": "zF7OzzxliEYW",
        "colab_type": "text"
      },
      "source": [
        "Link to Financial Analytics – Part 4.\n",
        "\n",
        "Also, please check out our YouTube channel and like, comment, share and subscribe."
      ]
    },
    {
      "cell_type": "markdown",
      "metadata": {
        "id": "Q3W6E5DriIaG",
        "colab_type": "text"
      },
      "source": [
        "source: https://mlforanalytics.com/2019/10/02/financial-analytics-portfolio-returns-using-python/"
      ]
    }
  ]
}