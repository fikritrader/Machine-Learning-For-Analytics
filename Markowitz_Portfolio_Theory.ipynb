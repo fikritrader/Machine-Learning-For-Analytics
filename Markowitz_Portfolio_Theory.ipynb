{
  "nbformat": 4,
  "nbformat_minor": 0,
  "metadata": {
    "colab": {
      "name": "Markowitz Portfolio Theory.ipynb",
      "provenance": [],
      "authorship_tag": "ABX9TyM2Pzt2KvZ+X+G27lHOwqc2",
      "include_colab_link": true
    },
    "kernelspec": {
      "name": "python3",
      "display_name": "Python 3"
    }
  },
  "cells": [
    {
      "cell_type": "markdown",
      "metadata": {
        "id": "view-in-github",
        "colab_type": "text"
      },
      "source": [
        "<a href=\"https://colab.research.google.com/github/fikritrader/Machine-Learning-For-Analytics/blob/master/Markowitz_Portfolio_Theory.ipynb\" target=\"_parent\"><img src=\"https://colab.research.google.com/assets/colab-badge.svg\" alt=\"Open In Colab\"/></a>"
      ]
    },
    {
      "cell_type": "markdown",
      "metadata": {
        "id": "L8mvmms4oE8z",
        "colab_type": "text"
      },
      "source": [
        "## **Markowitz Portfolio Theory**\n",
        "In this part of our financial analytics series, we will be studying Markowitz portfolio theory.  If you have not followed this series before, please check part 1, part 2 and part 3 to learn more about financial analytics.\n",
        "\n",
        "Portfolio theory published by Harry Markowitz in 1952 helps us in the formulation of great portfolio theory which forms base of financial analytics.\n",
        "Following are the highlights of this theory:\n",
        "\n",
        "Rather than putting everything on a single place as one investment, he emphasized on creating a diverse portfolio from different industries and then optimizing the risk involved in it.\n",
        "These industries shouldn’t be having correlations between them or the correlations between them should be minimum in order to prevent additional risks from coming up.\n",
        "This optimized portfolio leads to higher returns also.\n",
        "## **Financial Analytics Case-study**\n",
        "In order to understand this, let’s get into a case-study first.\n",
        "\n",
        "Let’s assume there are two shares:\n",
        "\n",
        "Share X – Expected return = 8%; Standard deviation = 4%\n",
        "Share Y – Expected return = 10%; Standard deviation = 3%\n",
        "The correlation between share X and share Y = 0.2 or 20%. We know that 0.2(20%) is very far away from 1(100%). The positive correlation denotes that as share X increases, share Y also increases and as share X decreases, share Y decreases but this relation is very small."
      ]
    },
    {
      "cell_type": "markdown",
      "metadata": {
        "id": "F6zYSQvborks",
        "colab_type": "text"
      },
      "source": [
        "![Texte alternatif…](https://i2.wp.com/mlforanalytics.com/wp-content/uploads/2020/04/table-1.jpg?w=625&ssl=1)"
      ]
    },
    {
      "cell_type": "markdown",
      "metadata": {
        "id": "qHVxRujKo3xL",
        "colab_type": "text"
      },
      "source": [
        "## **Expected return**\n",
        "Let’s now work on finding the Expected return and Standard deviation for each of the portfolios.\n",
        "Formula for expected return is as follows:\n",
        "![Texte alternatif…](https://i2.wp.com/mlforanalytics.com/wp-content/uploads/2020/04/formula-1.png?resize=133%2C24&ssl=1)\n",
        "formula 1\n",
        "Thus, we get the following table as the output after applying this formula:\n",
        "![Texte alternatif…](https://i2.wp.com/mlforanalytics.com/wp-content/uploads/2020/04/table-2.jpg?w=662&ssl=1)"
      ]
    },
    {
      "cell_type": "markdown",
      "metadata": {
        "id": "Lj_W75UEpWYK",
        "colab_type": "text"
      },
      "source": [
        "Evaluating this, we get the following values of expected returns:\n",
        "![Texte alternatif…](https://i0.wp.com/mlforanalytics.com/wp-content/uploads/2020/04/table-3.jpg?w=623&ssl=1)"
      ]
    },
    {
      "cell_type": "markdown",
      "metadata": {
        "id": "FPcIfil7pfNi",
        "colab_type": "text"
      },
      "source": [
        "## **Standard deviation**\n",
        "The formula of standard deviation of a portfolio is as follows:\n",
        "![Texte alternatif…](https://i2.wp.com/mlforanalytics.com/wp-content/uploads/2020/04/formula-3.jpg?w=399&ssl=1)\n",
        "![Texte alternatif…](https://i1.wp.com/mlforanalytics.com/wp-content/uploads/2020/04/formula-4.jpg?resize=768%2C34&ssl=1)"
      ]
    },
    {
      "cell_type": "markdown",
      "metadata": {
        "id": "ZTWtabxLpu8r",
        "colab_type": "text"
      },
      "source": [
        "We have\n",
        "\n",
        "Share X – Expected return = 8%; Standard deviation = 4%\n",
        "Share Y – Expected return = 10%; Standard deviation = 3%\n",
        "The correlation between share X and share Y = 0.2 or 20%\n",
        "Thus, we get the following table:"
      ]
    },
    {
      "cell_type": "markdown",
      "metadata": {
        "id": "Xa7eucespvlC",
        "colab_type": "text"
      },
      "source": [
        ""
      ]
    },
    {
      "cell_type": "markdown",
      "metadata": {
        "id": "4eE9u2hDpyaS",
        "colab_type": "text"
      },
      "source": [
        "![Texte alternatif…](https://i2.wp.com/mlforanalytics.com/wp-content/uploads/2020/04/table-4.jpg?resize=768%2C143&ssl=1)"
      ]
    },
    {
      "cell_type": "markdown",
      "metadata": {
        "id": "yGJjqcLmqB4y",
        "colab_type": "text"
      },
      "source": [
        "Evaluating this, we get the following table:\n",
        "![Texte alternatif…](https://i2.wp.com/mlforanalytics.com/wp-content/uploads/2020/04/table-5.jpg?resize=768%2C154&ssl=1)"
      ]
    },
    {
      "cell_type": "markdown",
      "metadata": {
        "id": "UswTjAKsqJ4t",
        "colab_type": "text"
      },
      "source": [
        "After taking square root of the last column, we get the following table:\n",
        "![Texte alternatif…](https://i0.wp.com/mlforanalytics.com/wp-content/uploads/2020/04/table-6.jpg?w=621&ssl=1)"
      ]
    },
    {
      "cell_type": "markdown",
      "metadata": {
        "id": "y-DL4TGHqO1l",
        "colab_type": "text"
      },
      "source": [
        "In percentage, the output becomes:"
      ]
    },
    {
      "cell_type": "markdown",
      "metadata": {
        "id": "qHcanlkDqUwb",
        "colab_type": "text"
      },
      "source": [
        "![Texte alternatif…](https://i0.wp.com/mlforanalytics.com/wp-content/uploads/2020/04/table-7.jpg?w=617&ssl=1)"
      ]
    },
    {
      "cell_type": "markdown",
      "metadata": {
        "id": "m7B9gUMvqpwq",
        "colab_type": "text"
      },
      "source": [
        "In order to get maximum expected return and minimum standard deviation (risk), we will choose portfolio 4 which is giving us expected return of 9.5% and standard deviation of 2.6%.\n",
        "\n",
        "One thing to be noticed over here is since the share Y has more expected return and less standard deviation, as we increased weight towards share Y, we got increased expected return and decreased standard deviation. But, generally, in real-world, shares of high expected return involve high standard deviation and that of low expected return involve low standard deviation. So, in real-world, we would be experiencing both of them moving high together.\n",
        "\n",
        "So guys, with this I conclude this tutorial. In the next part of this series, we wil be implementing Markowitz theory using Python. If you want to learn such things via videos, checkout our YouTube channel – ML for Analytics. Stay tuned."
      ]
    },
    {
      "cell_type": "markdown",
      "metadata": {
        "id": "7uW-RO4_qwaZ",
        "colab_type": "text"
      },
      "source": [
        "source: https://mlforanalytics.com/2020/04/07/financial-analytics-markowitz-portfolio-theory/"
      ]
    },
    {
      "cell_type": "markdown",
      "metadata": {
        "id": "dmWID0ljq2Zy",
        "colab_type": "text"
      },
      "source": [
        ""
      ]
    }
  ]
}