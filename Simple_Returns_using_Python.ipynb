{
  "nbformat": 4,
  "nbformat_minor": 0,
  "metadata": {
    "colab": {
      "name": "Simple Returns using Python.ipynb",
      "provenance": [],
      "authorship_tag": "ABX9TyNF/kOM1t2UW5jnCbzTA4vn",
      "include_colab_link": true
    },
    "kernelspec": {
      "name": "python3",
      "display_name": "Python 3"
    }
  },
  "cells": [
    {
      "cell_type": "markdown",
      "metadata": {
        "id": "view-in-github",
        "colab_type": "text"
      },
      "source": [
        "<a href=\"https://colab.research.google.com/github/fikritrader/Machine-Learning-For-Analytics/blob/master/Simple_Returns_using_Python.ipynb\" target=\"_parent\"><img src=\"https://colab.research.google.com/assets/colab-badge.svg\" alt=\"Open In Colab\"/></a>"
      ]
    },
    {
      "cell_type": "markdown",
      "metadata": {
        "id": "2vfJjmnIKOwP",
        "colab_type": "text"
      },
      "source": [
        "## **Financial Analytics: Part 1**"
      ]
    },
    {
      "cell_type": "markdown",
      "metadata": {
        "id": "5Wg1endRKQQa",
        "colab_type": "text"
      },
      "source": [
        "Simple Returns using Python: FA1\n",
        "On September 24, 2019 by Jyoti Dixit"
      ]
    },
    {
      "cell_type": "markdown",
      "metadata": {
        "id": "q0NXF4PZGZwh",
        "colab_type": "text"
      },
      "source": [
        "# **Simple Returns using Python**\n",
        "Simple Returns using Python: FA1\n",
        "On September 24, 2019 by Jyoti Dixit\n",
        "Hi MLEnthusiasts! Today, we’ll be learning the concept of simple rate of return and how to calculate simple returns using python. And with this article Financial Analytics: Part 1 we are starting are Financial Analytics tutorial series. Through this series you will learn all aspects of Financial Analytics & will become pro to it.\n",
        "## **Simple Rate of Return**\n",
        "According to Investopedia, Simple Rate of Return is defined as the net gain or loss on an investment over a specified time period, expressed as a percentage of the investment’s initial cost. Gains on investments are defined as income received plus any capital gains realized on the sale of the investment.\n",
        "\n",
        "The formula comes out to be\n",
        "![Texte alternatif…](https://i2.wp.com/mlforanalytics.com/wp-content/uploads/2019/09/return1.png?resize=289%2C57&ssl=1)\n",
        "It is often defined as basic growth rate or Return on Investment.\n",
        "## **Calculating Simple Returns using Python**\n",
        "Let’s start our analysis by importing the required packages for this analysis.\n",
        "\n",
        "\n",
        "So, let’s get started by understanding the concept of Simple Rate of Return."
      ]
    },
    {
      "cell_type": "code",
      "metadata": {
        "id": "JR_KBy71MnjC",
        "colab_type": "code",
        "colab": {
          "base_uri": "https://localhost:8080/",
          "height": 71
        },
        "outputId": "16dfdb7f-1ee9-4124-ccb4-e0853e8ee487"
      },
      "source": [
        "#Numpy is the package for scientific computing with python. Array computations are made very easy by using this package.\n",
        "import numpy as np  \n",
        "\n",
        "#Functions from pandas_datareader.data and pandas_datareader.wb extract data from various Internet sources into a pandas DataFrame.\n",
        "from pandas_datareader import data as dr \n",
        "\n",
        "#Using pyplot, we can get interactive plots and generate programmatic plots\n",
        "import matplotlib.pyplot as plt "
      ],
      "execution_count": 1,
      "outputs": [
        {
          "output_type": "stream",
          "text": [
            "/usr/local/lib/python3.6/dist-packages/pandas_datareader/compat/__init__.py:7: FutureWarning: pandas.util.testing is deprecated. Use the functions in the public API at pandas.testing instead.\n",
            "  from pandas.util.testing import assert_frame_equal\n"
          ],
          "name": "stderr"
        }
      ]
    },
    {
      "cell_type": "markdown",
      "metadata": {
        "id": "mp_zJwp1HO9H",
        "colab_type": "text"
      },
      "source": [
        "Now, let’s extract the historical prices for Procter & Gamble company from yahoo finance using DataReader.\n"
      ]
    },
    {
      "cell_type": "code",
      "metadata": {
        "id": "uJpbQCIZHUOn",
        "colab_type": "code",
        "colab": {}
      },
      "source": [
        "#Importing the data\n",
        "PG = dr.DataReader('PG', data_source='yahoo', start='1995-1-1') "
      ],
      "execution_count": 0,
      "outputs": []
    },
    {
      "cell_type": "code",
      "metadata": {
        "id": "wcuEAGEmHeHF",
        "colab_type": "code",
        "colab": {
          "base_uri": "https://localhost:8080/",
          "height": 235
        },
        "outputId": "acf10126-3fe1-4fd8-b539-4fde1ec4e1f7"
      },
      "source": [
        "#Displaying the head of the dataframe PG. head() displays first 5 rows by default. \n",
        "PG.head()"
      ],
      "execution_count": 3,
      "outputs": [
        {
          "output_type": "execute_result",
          "data": {
            "text/html": [
              "<div>\n",
              "<style scoped>\n",
              "    .dataframe tbody tr th:only-of-type {\n",
              "        vertical-align: middle;\n",
              "    }\n",
              "\n",
              "    .dataframe tbody tr th {\n",
              "        vertical-align: top;\n",
              "    }\n",
              "\n",
              "    .dataframe thead th {\n",
              "        text-align: right;\n",
              "    }\n",
              "</style>\n",
              "<table border=\"1\" class=\"dataframe\">\n",
              "  <thead>\n",
              "    <tr style=\"text-align: right;\">\n",
              "      <th></th>\n",
              "      <th>High</th>\n",
              "      <th>Low</th>\n",
              "      <th>Open</th>\n",
              "      <th>Close</th>\n",
              "      <th>Volume</th>\n",
              "      <th>Adj Close</th>\n",
              "    </tr>\n",
              "    <tr>\n",
              "      <th>Date</th>\n",
              "      <th></th>\n",
              "      <th></th>\n",
              "      <th></th>\n",
              "      <th></th>\n",
              "      <th></th>\n",
              "      <th></th>\n",
              "    </tr>\n",
              "  </thead>\n",
              "  <tbody>\n",
              "    <tr>\n",
              "      <th>1995-01-03</th>\n",
              "      <td>15.62500</td>\n",
              "      <td>15.43750</td>\n",
              "      <td>15.46875</td>\n",
              "      <td>15.59375</td>\n",
              "      <td>3318400.0</td>\n",
              "      <td>6.320252</td>\n",
              "    </tr>\n",
              "    <tr>\n",
              "      <th>1995-01-04</th>\n",
              "      <td>15.65625</td>\n",
              "      <td>15.31250</td>\n",
              "      <td>15.53125</td>\n",
              "      <td>15.46875</td>\n",
              "      <td>2218800.0</td>\n",
              "      <td>6.269589</td>\n",
              "    </tr>\n",
              "    <tr>\n",
              "      <th>1995-01-05</th>\n",
              "      <td>15.43750</td>\n",
              "      <td>15.21875</td>\n",
              "      <td>15.37500</td>\n",
              "      <td>15.25000</td>\n",
              "      <td>2319600.0</td>\n",
              "      <td>6.180927</td>\n",
              "    </tr>\n",
              "    <tr>\n",
              "      <th>1995-01-06</th>\n",
              "      <td>15.40625</td>\n",
              "      <td>15.15625</td>\n",
              "      <td>15.15625</td>\n",
              "      <td>15.28125</td>\n",
              "      <td>3438000.0</td>\n",
              "      <td>6.193593</td>\n",
              "    </tr>\n",
              "    <tr>\n",
              "      <th>1995-01-09</th>\n",
              "      <td>15.40625</td>\n",
              "      <td>15.18750</td>\n",
              "      <td>15.34375</td>\n",
              "      <td>15.21875</td>\n",
              "      <td>1795200.0</td>\n",
              "      <td>6.168259</td>\n",
              "    </tr>\n",
              "  </tbody>\n",
              "</table>\n",
              "</div>"
            ],
            "text/plain": [
              "                High       Low      Open     Close     Volume  Adj Close\n",
              "Date                                                                    \n",
              "1995-01-03  15.62500  15.43750  15.46875  15.59375  3318400.0   6.320252\n",
              "1995-01-04  15.65625  15.31250  15.53125  15.46875  2218800.0   6.269589\n",
              "1995-01-05  15.43750  15.21875  15.37500  15.25000  2319600.0   6.180927\n",
              "1995-01-06  15.40625  15.15625  15.15625  15.28125  3438000.0   6.193593\n",
              "1995-01-09  15.40625  15.18750  15.34375  15.21875  1795200.0   6.168259"
            ]
          },
          "metadata": {
            "tags": []
          },
          "execution_count": 3
        }
      ]
    },
    {
      "cell_type": "code",
      "metadata": {
        "id": "lEU1Lc01Hp2c",
        "colab_type": "code",
        "colab": {
          "base_uri": "https://localhost:8080/",
          "height": 235
        },
        "outputId": "25fd0e68-7b99-40ed-fe22-02cc1d0d4209"
      },
      "source": [
        "#Displaying the tail of the dataframe PG. tail() displays last 5 rows by default.\n",
        "PG.tail()"
      ],
      "execution_count": 4,
      "outputs": [
        {
          "output_type": "execute_result",
          "data": {
            "text/html": [
              "<div>\n",
              "<style scoped>\n",
              "    .dataframe tbody tr th:only-of-type {\n",
              "        vertical-align: middle;\n",
              "    }\n",
              "\n",
              "    .dataframe tbody tr th {\n",
              "        vertical-align: top;\n",
              "    }\n",
              "\n",
              "    .dataframe thead th {\n",
              "        text-align: right;\n",
              "    }\n",
              "</style>\n",
              "<table border=\"1\" class=\"dataframe\">\n",
              "  <thead>\n",
              "    <tr style=\"text-align: right;\">\n",
              "      <th></th>\n",
              "      <th>High</th>\n",
              "      <th>Low</th>\n",
              "      <th>Open</th>\n",
              "      <th>Close</th>\n",
              "      <th>Volume</th>\n",
              "      <th>Adj Close</th>\n",
              "    </tr>\n",
              "    <tr>\n",
              "      <th>Date</th>\n",
              "      <th></th>\n",
              "      <th></th>\n",
              "      <th></th>\n",
              "      <th></th>\n",
              "      <th></th>\n",
              "      <th></th>\n",
              "    </tr>\n",
              "  </thead>\n",
              "  <tbody>\n",
              "    <tr>\n",
              "      <th>2020-05-13</th>\n",
              "      <td>115.349998</td>\n",
              "      <td>113.730003</td>\n",
              "      <td>114.279999</td>\n",
              "      <td>113.919998</td>\n",
              "      <td>9312600.0</td>\n",
              "      <td>113.919998</td>\n",
              "    </tr>\n",
              "    <tr>\n",
              "      <th>2020-05-14</th>\n",
              "      <td>114.449997</td>\n",
              "      <td>111.250000</td>\n",
              "      <td>113.540001</td>\n",
              "      <td>113.809998</td>\n",
              "      <td>9310000.0</td>\n",
              "      <td>113.809998</td>\n",
              "    </tr>\n",
              "    <tr>\n",
              "      <th>2020-05-15</th>\n",
              "      <td>114.790001</td>\n",
              "      <td>112.050003</td>\n",
              "      <td>113.930000</td>\n",
              "      <td>114.610001</td>\n",
              "      <td>10694800.0</td>\n",
              "      <td>114.610001</td>\n",
              "    </tr>\n",
              "    <tr>\n",
              "      <th>2020-05-18</th>\n",
              "      <td>116.989998</td>\n",
              "      <td>114.709999</td>\n",
              "      <td>116.029999</td>\n",
              "      <td>116.209999</td>\n",
              "      <td>10020800.0</td>\n",
              "      <td>116.209999</td>\n",
              "    </tr>\n",
              "    <tr>\n",
              "      <th>2020-05-19</th>\n",
              "      <td>115.635002</td>\n",
              "      <td>112.339996</td>\n",
              "      <td>115.089996</td>\n",
              "      <td>112.440002</td>\n",
              "      <td>8042587.0</td>\n",
              "      <td>112.440002</td>\n",
              "    </tr>\n",
              "  </tbody>\n",
              "</table>\n",
              "</div>"
            ],
            "text/plain": [
              "                  High         Low  ...      Volume   Adj Close\n",
              "Date                                ...                        \n",
              "2020-05-13  115.349998  113.730003  ...   9312600.0  113.919998\n",
              "2020-05-14  114.449997  111.250000  ...   9310000.0  113.809998\n",
              "2020-05-15  114.790001  112.050003  ...  10694800.0  114.610001\n",
              "2020-05-18  116.989998  114.709999  ...  10020800.0  116.209999\n",
              "2020-05-19  115.635002  112.339996  ...   8042587.0  112.440002\n",
              "\n",
              "[5 rows x 6 columns]"
            ]
          },
          "metadata": {
            "tags": []
          },
          "execution_count": 4
        }
      ]
    },
    {
      "cell_type": "markdown",
      "metadata": {
        "id": "RBUM5jgcHw-c",
        "colab_type": "text"
      },
      "source": [
        "## Calculating Simple Rate of Return"
      ]
    },
    {
      "cell_type": "markdown",
      "metadata": {
        "id": "SeA9TuE_H118",
        "colab_type": "text"
      },
      "source": [
        "![Texte alternatif…](https://i2.wp.com/mlforanalytics.com/wp-content/uploads/2019/09/return2.png?resize=149%2C54&ssl=1)"
      ]
    },
    {
      "cell_type": "code",
      "metadata": {
        "id": "oQqWy2fVH-pN",
        "colab_type": "code",
        "colab": {
          "base_uri": "https://localhost:8080/",
          "height": 238
        },
        "outputId": "b11d1840-c5d9-4072-e402-8b0368b74791"
      },
      "source": [
        "#pandas.Dataframe.shift(# lags)\n",
        "#Using shift(1), we can get the row just above the present row. Here, # lags is 1.\n",
        "PG['Simple Return'] = (PG['Adj Close']/PG['Adj Close'].shift(1))-1  \n",
        "\n",
        "print(PG['Simple Return'])"
      ],
      "execution_count": 5,
      "outputs": [
        {
          "output_type": "stream",
          "text": [
            "Date\n",
            "1995-01-03         NaN\n",
            "1995-01-04   -0.008016\n",
            "1995-01-05   -0.014142\n",
            "1995-01-06    0.002049\n",
            "1995-01-09   -0.004090\n",
            "                ...   \n",
            "2020-05-13   -0.005500\n",
            "2020-05-14   -0.000966\n",
            "2020-05-15    0.007029\n",
            "2020-05-18    0.013960\n",
            "2020-05-19   -0.032441\n",
            "Name: Simple Return, Length: 6390, dtype: float64\n"
          ],
          "name": "stdout"
        }
      ]
    },
    {
      "cell_type": "markdown",
      "metadata": {
        "id": "3YxEZRYwI_cV",
        "colab_type": "text"
      },
      "source": [
        "Plotting the Simple Return series using matplotlib.pyplot"
      ]
    },
    {
      "cell_type": "code",
      "metadata": {
        "id": "aGtEZFtlJBhc",
        "colab_type": "code",
        "colab": {
          "base_uri": "https://localhost:8080/",
          "height": 318
        },
        "outputId": "200be4ee-c031-4165-b827-7f382e2d6dce"
      },
      "source": [
        "PG['Simple Return'].plot(figsize=(8, 5))\n",
        "plt.show()"
      ],
      "execution_count": 6,
      "outputs": [
        {
          "output_type": "display_data",
          "data": {
            "image/png": "[encoded data removed]",
            "text/plain": [
              "<Figure size 576x360 with 1 Axes>"
            ]
          },
          "metadata": {
            "tags": [],
            "needs_background": "light"
          }
        }
      ]
    },
    {
      "cell_type": "markdown",
      "metadata": {
        "id": "oBolii0FJM6z",
        "colab_type": "text"
      },
      "source": [
        "## Calculating Daily Average Simple Returns using **Python**"
      ]
    },
    {
      "cell_type": "markdown",
      "metadata": {
        "id": "kR1qb51fJQmj",
        "colab_type": "text"
      },
      "source": [
        "Daily Average Returns are given by computing the mean of the simple rate of return series."
      ]
    },
    {
      "cell_type": "code",
      "metadata": {
        "id": "srUCSzh0Jc8S",
        "colab_type": "code",
        "colab": {
          "base_uri": "https://localhost:8080/",
          "height": 34
        },
        "outputId": "b72c75f8-388b-474e-978d-d001081ea022"
      },
      "source": [
        "daily_avg_returns = PG['Simple Return'].mean()\n",
        "daily_avg_returns"
      ],
      "execution_count": 7,
      "outputs": [
        {
          "output_type": "execute_result",
          "data": {
            "text/plain": [
              "0.0005545694343850384"
            ]
          },
          "metadata": {
            "tags": []
          },
          "execution_count": 7
        }
      ]
    },
    {
      "cell_type": "markdown",
      "metadata": {
        "id": "XNOaBhZTJkTD",
        "colab_type": "text"
      },
      "source": [
        "## Calculating Annual Average **Returns**"
      ]
    },
    {
      "cell_type": "markdown",
      "metadata": {
        "id": "30D5cQnDJqJM",
        "colab_type": "text"
      },
      "source": [
        "Annual Average Returns are given by computing the mean of the simple rate of return series and then multiplying the value by 250 since 250 days exist in a business day system."
      ]
    },
    {
      "cell_type": "code",
      "metadata": {
        "id": "cPGPZkp6JrnC",
        "colab_type": "code",
        "colab": {
          "base_uri": "https://localhost:8080/",
          "height": 34
        },
        "outputId": "deabdb1e-75e7-4c63-ec5c-44bcf6026fcb"
      },
      "source": [
        "annual_avg_returns = PG['Simple Return'].mean() * 250\n",
        "annual_avg_returns"
      ],
      "execution_count": 8,
      "outputs": [
        {
          "output_type": "execute_result",
          "data": {
            "text/plain": [
              "0.13864235859625962"
            ]
          },
          "metadata": {
            "tags": []
          },
          "execution_count": 8
        }
      ]
    },
    {
      "cell_type": "markdown",
      "metadata": {
        "id": "yKwZlUTvJ0Fb",
        "colab_type": "text"
      },
      "source": [
        "Annual average returns percent for PG is given by the following code."
      ]
    },
    {
      "cell_type": "code",
      "metadata": {
        "id": "cnmNFPWmJ32S",
        "colab_type": "code",
        "colab": {
          "base_uri": "https://localhost:8080/",
          "height": 34
        },
        "outputId": "fc2ce62e-2056-4725-cd89-1b73a37fc9b7"
      },
      "source": [
        "print(str(round(annual_avg_returns*100, 2))+' %')"
      ],
      "execution_count": 9,
      "outputs": [
        {
          "output_type": "stream",
          "text": [
            "13.86 %\n"
          ],
          "name": "stdout"
        }
      ]
    },
    {
      "cell_type": "markdown",
      "metadata": {
        "id": "GUl6BDNoKARi",
        "colab_type": "text"
      },
      "source": [
        "So, guys, this was the first tutorial on how to apply python in the field of finance and trading. Stay tuned for more tutorials on this.\n",
        "\n",
        "To understand more concepts of Financial Analytics, please go through our next article Financial Analytics: Part 2\n",
        "\n",
        "If learning from videos is your thing, than you should check our YouTube  channel Ml for Analytics.\n",
        "\n",
        " \n",
        "\n",
        "Stay Tuned! Keep Learning!"
      ]
    }
  ]
}